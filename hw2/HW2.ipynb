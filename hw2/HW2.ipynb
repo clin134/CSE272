{
  "nbformat": 4,
  "nbformat_minor": 0,
  "metadata": {
    "colab": {
      "name": "HW2.ipynb",
      "provenance": []
    },
    "kernelspec": {
      "name": "python3",
      "display_name": "Python 3"
    },
    "language_info": {
      "name": "python"
    }
  },
  "cells": [
    {
      "cell_type": "code",
      "metadata": {
        "colab": {
          "base_uri": "https://localhost:8080/"
        },
        "id": "KE7fmkRtvEeV",
        "outputId": "3d93cd42-9a93-4607-d00c-5d45a7ed45d9"
      },
      "source": [
        "from google.colab import drive\n",
        "drive.mount('/content/drive')"
      ],
      "execution_count": null,
      "outputs": [
        {
          "output_type": "stream",
          "text": [
            "Mounted at /content/drive\n"
          ],
          "name": "stdout"
        }
      ]
    },
    {
      "cell_type": "code",
      "metadata": {
        "id": "vNhLyP5pveG5"
      },
      "source": [
        "data_path = '/content/drive/MyDrive/CS272/ratings_Amazon_Instant_Video.csv'"
      ],
      "execution_count": null,
      "outputs": []
    },
    {
      "cell_type": "code",
      "metadata": {
        "id": "TeWSxvVHv5-h"
      },
      "source": [
        "!pip install lenskit"
      ],
      "execution_count": null,
      "outputs": []
    },
    {
      "cell_type": "code",
      "metadata": {
        "id": "Hg35qFVEuuOB"
      },
      "source": [
        "import pandas as pd\n",
        "import lenskit.crossfold as xf\n",
        "import lenskit.algorithms\n",
        "from lenskit.algorithms.bias import Bias\n",
        "from lenskit.batch import predict\n",
        "from lenskit.metrics.predict import rmse\n",
        "from lenskit.metrics.predict import mae\n",
        "ori_ratings = pd.read_csv(data_path, names=['user','item','rating','timestamp'])\n",
        "#ratings = ratings.rename(columns={'userId': 'user', 'movieId': 'item'})"
      ],
      "execution_count": null,
      "outputs": []
    },
    {
      "cell_type": "code",
      "metadata": {
        "id": "WXW9HLrhweaU"
      },
      "source": [
        "ratings"
      ],
      "execution_count": null,
      "outputs": []
    },
    {
      "cell_type": "code",
      "metadata": {
        "id": "pBomDwYlrBar"
      },
      "source": [
        "ratings = ori_ratings[:]\n",
        "func = xf.SampleFrac(0.2)\n",
        "a = xf.partition_users(ratings, 1, func)\n",
        "datas = []\n",
        "for i in a:\n",
        "  datas.append(i)"
      ],
      "execution_count": null,
      "outputs": []
    },
    {
      "cell_type": "code",
      "metadata": {
        "id": "g14ufv9BCYm2"
      },
      "source": [
        "dtrain = datas[0][0]\n",
        "dtest = datas[0][1]"
      ],
      "execution_count": null,
      "outputs": []
    },
    {
      "cell_type": "code",
      "metadata": {
        "id": "wymjxJxGHiJt"
      },
      "source": [
        "len(dtrain)"
      ],
      "execution_count": null,
      "outputs": []
    },
    {
      "cell_type": "code",
      "metadata": {
        "id": "Rac8EBPgLjh1"
      },
      "source": [
        "len(dtest)"
      ],
      "execution_count": null,
      "outputs": []
    },
    {
      "cell_type": "code",
      "metadata": {
        "id": "krLobRMPDb-M"
      },
      "source": [
        "algo = Bias()\n",
        "algo.fit(dtrain)\n",
        "preds = predict(algo, dtest)\n",
        "user_rmse = preds.groupby('user').apply(lambda df: rmse(df.prediction, df.rating))\n",
        "user_rmse.mean()"
      ],
      "execution_count": null,
      "outputs": []
    },
    {
      "cell_type": "code",
      "metadata": {
        "id": "Z_1D-tFWE5Eq"
      },
      "source": [
        "user_mae = preds.groupby('user').apply(lambda df: mae(df.prediction, df.rating))\n",
        "user_mae.mean()"
      ],
      "execution_count": null,
      "outputs": []
    },
    {
      "cell_type": "code",
      "metadata": {
        "id": "IrZlX0I0Kojr"
      },
      "source": [
        "total_mae = mae(preds.prediction, preds.rating)\n",
        "total_mae"
      ],
      "execution_count": null,
      "outputs": []
    },
    {
      "cell_type": "code",
      "metadata": {
        "id": "Oaaakm0JK_dL"
      },
      "source": [
        "total_rmse = rmse(preds.prediction, preds.rating)\n",
        "total_rmse"
      ],
      "execution_count": null,
      "outputs": []
    },
    {
      "cell_type": "code",
      "metadata": {
        "id": "0rO6_DHFEqBo"
      },
      "source": [
        "preds"
      ],
      "execution_count": null,
      "outputs": []
    }
  ]
}